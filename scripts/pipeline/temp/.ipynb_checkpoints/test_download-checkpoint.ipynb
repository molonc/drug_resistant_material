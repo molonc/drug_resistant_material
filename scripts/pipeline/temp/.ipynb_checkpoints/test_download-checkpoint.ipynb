{
 "cells": [
  {
   "cell_type": "code",
   "execution_count": 1,
   "metadata": {},
   "outputs": [],
   "source": [
    "\n",
    "import os\n",
    "import re\n",
    "import sys\n",
    "import argparse\n",
    "import logging\n",
    "import subprocess\n",
    "# from tabulate import tabulate\n",
    "from distutils.version import StrictVersion\n",
    "\n",
    "import scgenome.db.qc\n",
    "from dbclients.tantalus import TantalusApi\n",
    "from dbclients.colossus import ColossusApi\n",
    "from dbclients.basicclient import NotFoundError\n",
    "\n",
    "tantalus_api = TantalusApi()\n",
    "colossus_api = ColossusApi()"
   ]
  },
  {
   "cell_type": "code",
   "execution_count": 2,
   "metadata": {},
   "outputs": [],
   "source": [
    "def download_data(data_dir, library):\n",
    "    # init directory to download data to\n",
    "    data_dir = os.path.join(data_dir, library)\n",
    "    # check if destination path exists\n",
    "    if not os.path.exists(data_dir):\n",
    "        os.makedirs(data_dir)\n",
    "\n",
    "    # init storage client\n",
    "    storage_client = tantalus_api.get_storage_client(\"scrna_rdatarawv3\")\n",
    "\n",
    "    # list all blobs for library\n",
    "    blobs = storage_client.list(library)\n",
    "\n",
    "    for blob in blobs:\n",
    "        # get flowcell from path\n",
    "        flowcell = os.path.basename(os.path.dirname(blob))\n",
    "        # get fastq filename\n",
    "        filename = os.path.basename(blob)\n",
    "        print(filename)\n",
    "\n",
    "        # join destination path with flowcell name and create path\n",
    "        flowcell_path = os.path.join(data_dir, flowcell)\n",
    "        if not os.path.exists(flowcell_path):\n",
    "            os.makedirs(flowcell_path)\n",
    "\n",
    "        # format filepath\n",
    "        filepath = os.path.join(flowcell_path, filename)\n",
    "        # check if file already exists with same size from blob storage\n",
    "        if os.path.exists(filepath) and os.path.getsize(filepath) == storage_client.get_size(blob):\n",
    "            continue\n",
    "\n",
    "        # download blob to path\n",
    "        print(f\"downloading {blob} to {filepath}\")\n",
    "#         blob = storage_client.blob_service.get_blob_to_path(container_name=\"rnaseq\", blob_name=blob, file_path=filepath)\n",
    "        blob_client = storage_client.blob_service.get_blob_client(\"rnaseq\", blob)  # download bam files\n",
    "        with open(filepath, \"wb\") as my_blob:\n",
    "            download_stream = blob_client.download_blob()\n",
    "            my_blob.write(download_stream.readall())\n",
    "\n"
   ]
  },
  {
   "cell_type": "code",
   "execution_count": 3,
   "metadata": {},
   "outputs": [
    {
     "name": "stdout",
     "output_type": "stream",
     "text": [
      "SCRNA10X_SA_CHIP0176_001.rdata\n",
      "downloading SCRNA10X_SA_CHIP0176_001.rdata to /home/htran/storage/datasets/hakwoo_metastasis_RNAseq/SA535_human/SCRNA10X_SA_CHIP0176_001/SCRNA10X_SA_CHIP0176_001/SCRNA10X_SA_CHIP0176_001.rdata\n"
     ]
    },
    {
     "ename": "AttributeError",
     "evalue": "'BlobServiceClient' object has no attribute 'get_blob_to_path'",
     "output_type": "error",
     "traceback": [
      "\u001b[0;31m-------------------------------------------------------------------\u001b[0m",
      "\u001b[0;31mAttributeError\u001b[0m                    Traceback (most recent call last)",
      "\u001b[0;32m<ipython-input-3-810b3c0b5de6>\u001b[0m in \u001b[0;36m<module>\u001b[0;34m\u001b[0m\n\u001b[1;32m      1\u001b[0m \u001b[0mdownload_dir\u001b[0m \u001b[0;34m=\u001b[0m \u001b[0;34m'/home/htran/storage/datasets/hakwoo_metastasis_RNAseq/SA535_human/SCRNA10X_SA_CHIP0176_001'\u001b[0m\u001b[0;34m\u001b[0m\u001b[0;34m\u001b[0m\u001b[0m\n\u001b[1;32m      2\u001b[0m \u001b[0mlibrary_id\u001b[0m \u001b[0;34m=\u001b[0m \u001b[0;34m'SCRNA10X_SA_CHIP0176_001'\u001b[0m\u001b[0;34m\u001b[0m\u001b[0;34m\u001b[0m\u001b[0m\n\u001b[0;32m----> 3\u001b[0;31m \u001b[0mdownload_data\u001b[0m\u001b[0;34m(\u001b[0m\u001b[0mdownload_dir\u001b[0m\u001b[0;34m,\u001b[0m \u001b[0mlibrary_id\u001b[0m\u001b[0;34m)\u001b[0m\u001b[0;34m\u001b[0m\u001b[0;34m\u001b[0m\u001b[0m\n\u001b[0m",
      "\u001b[0;32m<ipython-input-2-576f5160288f>\u001b[0m in \u001b[0;36mdownload_data\u001b[0;34m(data_dir, library)\u001b[0m\n\u001b[1;32m     32\u001b[0m         \u001b[0;31m# download blob to path\u001b[0m\u001b[0;34m\u001b[0m\u001b[0;34m\u001b[0m\u001b[0;34m\u001b[0m\u001b[0m\n\u001b[1;32m     33\u001b[0m         \u001b[0mprint\u001b[0m\u001b[0;34m(\u001b[0m\u001b[0;34mf\"downloading {blob} to {filepath}\"\u001b[0m\u001b[0;34m)\u001b[0m\u001b[0;34m\u001b[0m\u001b[0;34m\u001b[0m\u001b[0m\n\u001b[0;32m---> 34\u001b[0;31m         \u001b[0mblob\u001b[0m \u001b[0;34m=\u001b[0m \u001b[0mstorage_client\u001b[0m\u001b[0;34m.\u001b[0m\u001b[0mblob_service\u001b[0m\u001b[0;34m.\u001b[0m\u001b[0mget_blob_to_path\u001b[0m\u001b[0;34m(\u001b[0m\u001b[0mcontainer_name\u001b[0m\u001b[0;34m=\u001b[0m\u001b[0;34m\"rnaseq\"\u001b[0m\u001b[0;34m,\u001b[0m \u001b[0mblob_name\u001b[0m\u001b[0;34m=\u001b[0m\u001b[0mblob\u001b[0m\u001b[0;34m,\u001b[0m \u001b[0mfile_path\u001b[0m\u001b[0;34m=\u001b[0m\u001b[0mfilepath\u001b[0m\u001b[0;34m)\u001b[0m\u001b[0;34m\u001b[0m\u001b[0;34m\u001b[0m\u001b[0m\n\u001b[0m\u001b[1;32m     35\u001b[0m         \u001b[0;31m# blob_client = storage_client.blob_service.get_blob_client(\"bams\", blob)  # download bam files\u001b[0m\u001b[0;34m\u001b[0m\u001b[0;34m\u001b[0m\u001b[0;34m\u001b[0m\u001b[0m\n\u001b[1;32m     36\u001b[0m         \u001b[0;32mwith\u001b[0m \u001b[0mopen\u001b[0m\u001b[0;34m(\u001b[0m\u001b[0mfilepath\u001b[0m\u001b[0;34m,\u001b[0m \u001b[0;34m\"wb\"\u001b[0m\u001b[0;34m)\u001b[0m \u001b[0;32mas\u001b[0m \u001b[0mmy_blob\u001b[0m\u001b[0;34m:\u001b[0m\u001b[0;34m\u001b[0m\u001b[0;34m\u001b[0m\u001b[0m\n",
      "\u001b[0;31mAttributeError\u001b[0m: 'BlobServiceClient' object has no attribute 'get_blob_to_path'"
     ]
    }
   ],
   "source": [
    "download_dir = '/home/htran/storage/datasets/hakwoo_metastasis_RNAseq/SA535_human/SCRNA10X_SA_CHIP0176_001'\n",
    "library_id = 'SCRNA10X_SA_CHIP0176_001'\n",
    "download_data(download_dir, library_id)"
   ]
  },
  {
   "cell_type": "code",
   "execution_count": null,
   "metadata": {},
   "outputs": [],
   "source": []
  }
 ],
 "metadata": {
  "kernelspec": {
   "display_name": "Python 3",
   "language": "python",
   "name": "python3"
  },
  "language_info": {
   "codemirror_mode": {
    "name": "ipython",
    "version": 3
   },
   "file_extension": ".py",
   "mimetype": "text/x-python",
   "name": "python",
   "nbconvert_exporter": "python",
   "pygments_lexer": "ipython3",
   "version": "3.7.6"
  }
 },
 "nbformat": 4,
 "nbformat_minor": 2
}
